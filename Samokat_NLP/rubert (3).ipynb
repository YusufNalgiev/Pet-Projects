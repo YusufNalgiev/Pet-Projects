{
 "cells": [
  {
   "cell_type": "code",
   "execution_count": 1,
   "id": "8f7be5b2-694f-458c-8c55-b415a9d5531c",
   "metadata": {},
   "outputs": [
    {
     "name": "stdout",
     "output_type": "stream",
     "text": [
      "WARNING:tensorflow:From C:\\Users\\Skynet\\anaconda3\\Lib\\site-packages\\tf_keras\\src\\losses.py:2976: The name tf.losses.sparse_softmax_cross_entropy is deprecated. Please use tf.compat.v1.losses.sparse_softmax_cross_entropy instead.\n",
      "\n"
     ]
    }
   ],
   "source": [
    "import torch\n",
    "from torch.utils.data import Dataset, DataLoader\n",
    "from transformers import AutoTokenizer, AutoModelForSequenceClassification, TrainingArguments, Trainer, AutoModel, BertTokenizer, BertForSequenceClassification\n",
    "import warnings\n",
    "\n",
    "import pandas as pd\n",
    "import numpy as np\n",
    "import re\n",
    "import matplotlib.pyplot as plt\n",
    "\n",
    "import torch.nn as nn\n",
    "from sklearn.model_selection import train_test_split\n",
    "from sklearn.metrics import f1_score, accuracy_score\n",
    "from torch.nn import BCEWithLogitsLoss\n",
    "from tqdm import tqdm"
   ]
  },
  {
   "cell_type": "code",
   "execution_count": 2,
   "id": "cfab10e0-02c4-40ed-9f6e-47be399ba883",
   "metadata": {},
   "outputs": [],
   "source": [
    "warnings.filterwarnings('ignore')"
   ]
  },
  {
   "cell_type": "code",
   "execution_count": 3,
   "id": "a6d005f4-c627-48fc-8b09-9b581c12f0e3",
   "metadata": {},
   "outputs": [],
   "source": [
    "BATCH_SIZE = 16\n",
    "TEST_SIZE = .2\n",
    "RANDOM_STATE = 42\n",
    "EPOCH = 10"
   ]
  },
  {
   "cell_type": "markdown",
   "id": "24cb2f34-13f7-4c2b-aa0e-16706e99322b",
   "metadata": {},
   "source": [
    "## Загрузка и преобразование данных"
   ]
  },
  {
   "cell_type": "code",
   "execution_count": 4,
   "id": "00514ea5-1e23-4a63-a100-fb22977ed5e3",
   "metadata": {},
   "outputs": [],
   "source": [
    "# Загружаем данные\n",
    "file_path = r\"C:\\Users\\Skynet\\dsprojects\\train.csv\"\n",
    "data = pd.read_csv(file_path)"
   ]
  },
  {
   "cell_type": "code",
   "execution_count": 5,
   "id": "5c6596f2-4c40-40da-84ed-98371fe58eee",
   "metadata": {},
   "outputs": [
    {
     "name": "stdout",
     "output_type": "stream",
     "text": [
      "<class 'pandas.core.frame.DataFrame'>\n",
      "RangeIndex: 8708 entries, 0 to 8707\n",
      "Data columns (total 54 columns):\n",
      " #   Column          Non-Null Count  Dtype  \n",
      "---  ------          --------------  -----  \n",
      " 0   index           8708 non-null   int64  \n",
      " 1   assessment      8478 non-null   float64\n",
      " 2   tags            8697 non-null   object \n",
      " 3   text            8708 non-null   object \n",
      " 4   trend_id_res0   8708 non-null   int64  \n",
      " 5   trend_id_res1   8708 non-null   int64  \n",
      " 6   trend_id_res2   8708 non-null   int64  \n",
      " 7   trend_id_res3   8708 non-null   int64  \n",
      " 8   trend_id_res4   8708 non-null   int64  \n",
      " 9   trend_id_res5   8708 non-null   int64  \n",
      " 10  trend_id_res6   8708 non-null   int64  \n",
      " 11  trend_id_res7   8708 non-null   int64  \n",
      " 12  trend_id_res8   8708 non-null   int64  \n",
      " 13  trend_id_res9   8708 non-null   int64  \n",
      " 14  trend_id_res10  8708 non-null   int64  \n",
      " 15  trend_id_res11  8708 non-null   int64  \n",
      " 16  trend_id_res12  8708 non-null   int64  \n",
      " 17  trend_id_res13  8708 non-null   int64  \n",
      " 18  trend_id_res14  8708 non-null   int64  \n",
      " 19  trend_id_res15  8708 non-null   int64  \n",
      " 20  trend_id_res16  8708 non-null   int64  \n",
      " 21  trend_id_res17  8708 non-null   int64  \n",
      " 22  trend_id_res18  8708 non-null   int64  \n",
      " 23  trend_id_res19  8708 non-null   int64  \n",
      " 24  trend_id_res20  8708 non-null   int64  \n",
      " 25  trend_id_res21  8708 non-null   int64  \n",
      " 26  trend_id_res22  8708 non-null   int64  \n",
      " 27  trend_id_res23  8708 non-null   int64  \n",
      " 28  trend_id_res24  8708 non-null   int64  \n",
      " 29  trend_id_res25  8708 non-null   int64  \n",
      " 30  trend_id_res26  8708 non-null   int64  \n",
      " 31  trend_id_res27  8708 non-null   int64  \n",
      " 32  trend_id_res28  8708 non-null   int64  \n",
      " 33  trend_id_res29  8708 non-null   int64  \n",
      " 34  trend_id_res30  8708 non-null   int64  \n",
      " 35  trend_id_res31  8708 non-null   int64  \n",
      " 36  trend_id_res32  8708 non-null   int64  \n",
      " 37  trend_id_res33  8708 non-null   int64  \n",
      " 38  trend_id_res34  8708 non-null   int64  \n",
      " 39  trend_id_res35  8708 non-null   int64  \n",
      " 40  trend_id_res36  8708 non-null   int64  \n",
      " 41  trend_id_res37  8708 non-null   int64  \n",
      " 42  trend_id_res38  8708 non-null   int64  \n",
      " 43  trend_id_res39  8708 non-null   int64  \n",
      " 44  trend_id_res40  8708 non-null   int64  \n",
      " 45  trend_id_res41  8708 non-null   int64  \n",
      " 46  trend_id_res42  8708 non-null   int64  \n",
      " 47  trend_id_res43  8708 non-null   int64  \n",
      " 48  trend_id_res44  8708 non-null   int64  \n",
      " 49  trend_id_res45  8708 non-null   int64  \n",
      " 50  trend_id_res46  8708 non-null   int64  \n",
      " 51  trend_id_res47  8708 non-null   int64  \n",
      " 52  trend_id_res48  8708 non-null   int64  \n",
      " 53  trend_id_res49  8708 non-null   int64  \n",
      "dtypes: float64(1), int64(51), object(2)\n",
      "memory usage: 3.6+ MB\n"
     ]
    }
   ],
   "source": [
    "# Просматриваем структуру данных\n",
    "data.info()"
   ]
  },
  {
   "cell_type": "markdown",
   "id": "be5a09d8-6e98-4f22-a36f-cb3b30df456f",
   "metadata": {},
   "source": [
    "Посчитаем сколько нулевых строк"
   ]
  },
  {
   "cell_type": "code",
   "execution_count": 6,
   "id": "9595b8e5-bffb-4369-9a82-c4eb6f86fea3",
   "metadata": {},
   "outputs": [
    {
     "data": {
      "text/html": [
       "<div>\n",
       "<style scoped>\n",
       "    .dataframe tbody tr th:only-of-type {\n",
       "        vertical-align: middle;\n",
       "    }\n",
       "\n",
       "    .dataframe tbody tr th {\n",
       "        vertical-align: top;\n",
       "    }\n",
       "\n",
       "    .dataframe thead th {\n",
       "        text-align: right;\n",
       "    }\n",
       "</style>\n",
       "<table border=\"1\" class=\"dataframe\">\n",
       "  <thead>\n",
       "    <tr style=\"text-align: right;\">\n",
       "      <th></th>\n",
       "      <th>index</th>\n",
       "      <th>assessment</th>\n",
       "      <th>tags</th>\n",
       "      <th>text</th>\n",
       "      <th>trend_id_res0</th>\n",
       "      <th>trend_id_res1</th>\n",
       "      <th>trend_id_res2</th>\n",
       "      <th>trend_id_res3</th>\n",
       "      <th>trend_id_res4</th>\n",
       "      <th>trend_id_res5</th>\n",
       "      <th>...</th>\n",
       "      <th>trend_id_res40</th>\n",
       "      <th>trend_id_res41</th>\n",
       "      <th>trend_id_res42</th>\n",
       "      <th>trend_id_res43</th>\n",
       "      <th>trend_id_res44</th>\n",
       "      <th>trend_id_res45</th>\n",
       "      <th>trend_id_res46</th>\n",
       "      <th>trend_id_res47</th>\n",
       "      <th>trend_id_res48</th>\n",
       "      <th>trend_id_res49</th>\n",
       "    </tr>\n",
       "  </thead>\n",
       "  <tbody>\n",
       "    <tr>\n",
       "      <th>0</th>\n",
       "      <td>5652</td>\n",
       "      <td>6.0</td>\n",
       "      <td>{ASSORTMENT,PROMOTIONS,DELIVERY}</td>\n",
       "      <td>Маленький выбор товаров, хотелось бы ассортиме...</td>\n",
       "      <td>0</td>\n",
       "      <td>0</td>\n",
       "      <td>0</td>\n",
       "      <td>0</td>\n",
       "      <td>0</td>\n",
       "      <td>0</td>\n",
       "      <td>...</td>\n",
       "      <td>0</td>\n",
       "      <td>0</td>\n",
       "      <td>0</td>\n",
       "      <td>0</td>\n",
       "      <td>0</td>\n",
       "      <td>0</td>\n",
       "      <td>0</td>\n",
       "      <td>0</td>\n",
       "      <td>0</td>\n",
       "      <td>0</td>\n",
       "    </tr>\n",
       "    <tr>\n",
       "      <th>1</th>\n",
       "      <td>18092</td>\n",
       "      <td>4.0</td>\n",
       "      <td>{ASSORTMENT,PRICE,PRODUCTS_QUALITY,DELIVERY}</td>\n",
       "      <td>Быстро</td>\n",
       "      <td>0</td>\n",
       "      <td>0</td>\n",
       "      <td>0</td>\n",
       "      <td>0</td>\n",
       "      <td>0</td>\n",
       "      <td>0</td>\n",
       "      <td>...</td>\n",
       "      <td>0</td>\n",
       "      <td>0</td>\n",
       "      <td>0</td>\n",
       "      <td>0</td>\n",
       "      <td>0</td>\n",
       "      <td>0</td>\n",
       "      <td>0</td>\n",
       "      <td>0</td>\n",
       "      <td>0</td>\n",
       "      <td>0</td>\n",
       "    </tr>\n",
       "    <tr>\n",
       "      <th>2</th>\n",
       "      <td>13845</td>\n",
       "      <td>6.0</td>\n",
       "      <td>{DELIVERY,PROMOTIONS,PRICE,ASSORTMENT,SUPPORT}</td>\n",
       "      <td>Доставка постоянно задерживается</td>\n",
       "      <td>0</td>\n",
       "      <td>0</td>\n",
       "      <td>0</td>\n",
       "      <td>1</td>\n",
       "      <td>0</td>\n",
       "      <td>0</td>\n",
       "      <td>...</td>\n",
       "      <td>0</td>\n",
       "      <td>0</td>\n",
       "      <td>0</td>\n",
       "      <td>0</td>\n",
       "      <td>0</td>\n",
       "      <td>0</td>\n",
       "      <td>0</td>\n",
       "      <td>0</td>\n",
       "      <td>0</td>\n",
       "      <td>0</td>\n",
       "    </tr>\n",
       "    <tr>\n",
       "      <th>3</th>\n",
       "      <td>25060</td>\n",
       "      <td>6.0</td>\n",
       "      <td>{PRICE,PROMOTIONS,ASSORTMENT}</td>\n",
       "      <td>Наценка и ассортимент расстраивают</td>\n",
       "      <td>0</td>\n",
       "      <td>0</td>\n",
       "      <td>0</td>\n",
       "      <td>0</td>\n",
       "      <td>0</td>\n",
       "      <td>0</td>\n",
       "      <td>...</td>\n",
       "      <td>0</td>\n",
       "      <td>0</td>\n",
       "      <td>0</td>\n",
       "      <td>0</td>\n",
       "      <td>0</td>\n",
       "      <td>0</td>\n",
       "      <td>0</td>\n",
       "      <td>0</td>\n",
       "      <td>0</td>\n",
       "      <td>0</td>\n",
       "    </tr>\n",
       "    <tr>\n",
       "      <th>4</th>\n",
       "      <td>15237</td>\n",
       "      <td>5.0</td>\n",
       "      <td>{ASSORTMENT,PRODUCTS_QUALITY,PROMOTIONS,CATALO...</td>\n",
       "      <td>Доставка просто 👍</td>\n",
       "      <td>0</td>\n",
       "      <td>0</td>\n",
       "      <td>0</td>\n",
       "      <td>0</td>\n",
       "      <td>0</td>\n",
       "      <td>0</td>\n",
       "      <td>...</td>\n",
       "      <td>0</td>\n",
       "      <td>0</td>\n",
       "      <td>0</td>\n",
       "      <td>0</td>\n",
       "      <td>0</td>\n",
       "      <td>0</td>\n",
       "      <td>0</td>\n",
       "      <td>0</td>\n",
       "      <td>0</td>\n",
       "      <td>0</td>\n",
       "    </tr>\n",
       "  </tbody>\n",
       "</table>\n",
       "<p>5 rows × 54 columns</p>\n",
       "</div>"
      ],
      "text/plain": [
       "   index  assessment                                               tags  \\\n",
       "0   5652         6.0                   {ASSORTMENT,PROMOTIONS,DELIVERY}   \n",
       "1  18092         4.0       {ASSORTMENT,PRICE,PRODUCTS_QUALITY,DELIVERY}   \n",
       "2  13845         6.0     {DELIVERY,PROMOTIONS,PRICE,ASSORTMENT,SUPPORT}   \n",
       "3  25060         6.0                      {PRICE,PROMOTIONS,ASSORTMENT}   \n",
       "4  15237         5.0  {ASSORTMENT,PRODUCTS_QUALITY,PROMOTIONS,CATALO...   \n",
       "\n",
       "                                                text  trend_id_res0  \\\n",
       "0  Маленький выбор товаров, хотелось бы ассортиме...              0   \n",
       "1                                             Быстро              0   \n",
       "2                   Доставка постоянно задерживается              0   \n",
       "3                 Наценка и ассортимент расстраивают              0   \n",
       "4                                  Доставка просто 👍              0   \n",
       "\n",
       "   trend_id_res1  trend_id_res2  trend_id_res3  trend_id_res4  trend_id_res5  \\\n",
       "0              0              0              0              0              0   \n",
       "1              0              0              0              0              0   \n",
       "2              0              0              1              0              0   \n",
       "3              0              0              0              0              0   \n",
       "4              0              0              0              0              0   \n",
       "\n",
       "   ...  trend_id_res40  trend_id_res41  trend_id_res42  trend_id_res43  \\\n",
       "0  ...               0               0               0               0   \n",
       "1  ...               0               0               0               0   \n",
       "2  ...               0               0               0               0   \n",
       "3  ...               0               0               0               0   \n",
       "4  ...               0               0               0               0   \n",
       "\n",
       "   trend_id_res44  trend_id_res45  trend_id_res46  trend_id_res47  \\\n",
       "0               0               0               0               0   \n",
       "1               0               0               0               0   \n",
       "2               0               0               0               0   \n",
       "3               0               0               0               0   \n",
       "4               0               0               0               0   \n",
       "\n",
       "   trend_id_res48  trend_id_res49  \n",
       "0               0               0  \n",
       "1               0               0  \n",
       "2               0               0  \n",
       "3               0               0  \n",
       "4               0               0  \n",
       "\n",
       "[5 rows x 54 columns]"
      ]
     },
     "execution_count": 6,
     "metadata": {},
     "output_type": "execute_result"
    }
   ],
   "source": [
    "data.head()"
   ]
  },
  {
   "cell_type": "code",
   "execution_count": 7,
   "id": "e33b2b8f-a713-4c12-b703-3b4a600b2aa3",
   "metadata": {},
   "outputs": [],
   "source": [
    "label_columns = [col for col in data.columns if col.startswith(\"trend_id_res\")]"
   ]
  },
  {
   "cell_type": "code",
   "execution_count": 8,
   "id": "270af17f-62d0-4bd9-9d85-97d63338b391",
   "metadata": {},
   "outputs": [],
   "source": [
    "# Фильтруем строки, где все метки равны 0\n",
    "rows_with_all_zeros = data[label_columns].sum(axis=1) == 0\n",
    "count_all_zero_rows = rows_with_all_zeros.sum()"
   ]
  },
  {
   "cell_type": "code",
   "execution_count": 9,
   "id": "12417395-981f-4b1e-b4a7-da1f28410079",
   "metadata": {},
   "outputs": [
    {
     "name": "stdout",
     "output_type": "stream",
     "text": [
      "Количество строк с нулями: 4085\n"
     ]
    }
   ],
   "source": [
    "print(f\"Количество строк с нулями: {count_all_zero_rows}\")"
   ]
  },
  {
   "cell_type": "markdown",
   "id": "7e43a91a-eac1-4958-8ef4-c83e9cb5dac5",
   "metadata": {},
   "source": [
    "Нулевые строки тоже нужны для обучения"
   ]
  },
  {
   "cell_type": "code",
   "execution_count": 10,
   "id": "03900348-1cc8-47bc-9f47-e296e171d1e5",
   "metadata": {},
   "outputs": [
    {
     "data": {
      "image/png": "[encoded data removed]",
      "text/plain": [
       "<Figure size 1200x600 with 1 Axes>"
      ]
     },
     "metadata": {},
     "output_type": "display_data"
    }
   ],
   "source": [
    "# Пример: Данные с метками (замените на свои данные)\n",
    "all_labels = data[[f'trend_id_res{i}' for i in range(50)]]\n",
    "\n",
    "# Подсчет количества положительных меток для каждого класса\n",
    "class_counts = all_labels.sum(axis=0)\n",
    "\n",
    "# Таблица частот\n",
    "class_counts_table = pd.DataFrame({'Class': class_counts.index, 'Frequency': class_counts.values})\n",
    "\n",
    "# Построение графика распределения\n",
    "plt.figure(figsize=(12, 6))\n",
    "plt.bar(class_counts.index, class_counts.values, color='skyblue')\n",
    "plt.title('Распределение классов')\n",
    "plt.xlabel('Класс')\n",
    "plt.ylabel('Частота')\n",
    "plt.xticks(rotation=90)\n",
    "plt.show()"
   ]
  },
  {
   "cell_type": "markdown",
   "id": "5014b65e-9eea-4f04-93f5-9950a47a6069",
   "metadata": {},
   "source": [
    "Наблюдается сильный дисбаланс классов. Путем экспериментов с oversampling, значительно улучшить метрику не удалось, при рандомном oversampling метрика accuracy совсем упала."
   ]
  },
  {
   "cell_type": "markdown",
   "id": "530600d9-82a8-4e93-8382-c0725fdc25e0",
   "metadata": {},
   "source": [
    "Преобразуем данные в вид \"Отзыв - Тэги - Оценка\""
   ]
  },
  {
   "cell_type": "code",
   "execution_count": 11,
   "id": "c0706f5a-6088-427d-b135-a1b190b56a37",
   "metadata": {},
   "outputs": [],
   "source": [
    "def cleaner(text):\n",
    "\n",
    "    if not isinstance(text, str):\n",
    "        return \"\"\n",
    "\n",
    "    text = text.lower()\n",
    "\n",
    "    text = re.sub(r'http\\S+|www\\.\\S+', '', text)\n",
    "\n",
    "    text = re.sub(r'<.*?>', '', text)\n",
    "\n",
    "    # Удаление чисел и спецсимволов (оставляем только буквы и пробелы)\n",
    "    text = re.sub(r'[^а-яa-zё0-9\\s]', '', text)\n",
    "\n",
    "    # Удаление лишних пробелов\n",
    "    text = re.sub(r'\\s+', ' ', text).strip()\n",
    "\n",
    "    return text"
   ]
  },
  {
   "cell_type": "code",
   "execution_count": 12,
   "id": "d5a82a51-5aee-476b-bee4-587a4a8bbcac",
   "metadata": {},
   "outputs": [],
   "source": [
    "def transform_text(row):\n",
    "    string = f'''Отзыв {row['text']}, тэги {' '.join(row['tags'])}, оценка {row['assessment']}'''\n",
    "    return string"
   ]
  },
  {
   "cell_type": "code",
   "execution_count": 13,
   "id": "a0d983f0-5ee0-4c4d-8070-d8c024764fd6",
   "metadata": {},
   "outputs": [],
   "source": [
    "data['tags'] = data['tags'].fillna('').str.strip('{}').str.split(',')"
   ]
  },
  {
   "cell_type": "code",
   "execution_count": 14,
   "id": "36934aab-1d88-401d-9c7f-5d556614f10b",
   "metadata": {},
   "outputs": [],
   "source": [
    "data['text'] = data.apply(transform_text, axis=1)"
   ]
  },
  {
   "cell_type": "code",
   "execution_count": 15,
   "id": "1fcdacb3-c938-46ee-9162-5de963680161",
   "metadata": {},
   "outputs": [],
   "source": [
    "data['text'] = data['text'].apply(cleaner)"
   ]
  },
  {
   "cell_type": "code",
   "execution_count": 16,
   "id": "5ed9c58a-57f0-4a42-a7a6-921391b22da0",
   "metadata": {},
   "outputs": [
    {
     "data": {
      "text/html": [
       "<div>\n",
       "<style scoped>\n",
       "    .dataframe tbody tr th:only-of-type {\n",
       "        vertical-align: middle;\n",
       "    }\n",
       "\n",
       "    .dataframe tbody tr th {\n",
       "        vertical-align: top;\n",
       "    }\n",
       "\n",
       "    .dataframe thead th {\n",
       "        text-align: right;\n",
       "    }\n",
       "</style>\n",
       "<table border=\"1\" class=\"dataframe\">\n",
       "  <thead>\n",
       "    <tr style=\"text-align: right;\">\n",
       "      <th></th>\n",
       "      <th>index</th>\n",
       "      <th>assessment</th>\n",
       "      <th>tags</th>\n",
       "      <th>text</th>\n",
       "      <th>trend_id_res0</th>\n",
       "      <th>trend_id_res1</th>\n",
       "      <th>trend_id_res2</th>\n",
       "      <th>trend_id_res3</th>\n",
       "      <th>trend_id_res4</th>\n",
       "      <th>trend_id_res5</th>\n",
       "      <th>...</th>\n",
       "      <th>trend_id_res40</th>\n",
       "      <th>trend_id_res41</th>\n",
       "      <th>trend_id_res42</th>\n",
       "      <th>trend_id_res43</th>\n",
       "      <th>trend_id_res44</th>\n",
       "      <th>trend_id_res45</th>\n",
       "      <th>trend_id_res46</th>\n",
       "      <th>trend_id_res47</th>\n",
       "      <th>trend_id_res48</th>\n",
       "      <th>trend_id_res49</th>\n",
       "    </tr>\n",
       "  </thead>\n",
       "  <tbody>\n",
       "    <tr>\n",
       "      <th>0</th>\n",
       "      <td>5652</td>\n",
       "      <td>6.0</td>\n",
       "      <td>[ASSORTMENT, PROMOTIONS, DELIVERY]</td>\n",
       "      <td>отзыв маленький выбор товаров хотелось бы ассо...</td>\n",
       "      <td>0</td>\n",
       "      <td>0</td>\n",
       "      <td>0</td>\n",
       "      <td>0</td>\n",
       "      <td>0</td>\n",
       "      <td>0</td>\n",
       "      <td>...</td>\n",
       "      <td>0</td>\n",
       "      <td>0</td>\n",
       "      <td>0</td>\n",
       "      <td>0</td>\n",
       "      <td>0</td>\n",
       "      <td>0</td>\n",
       "      <td>0</td>\n",
       "      <td>0</td>\n",
       "      <td>0</td>\n",
       "      <td>0</td>\n",
       "    </tr>\n",
       "    <tr>\n",
       "      <th>1</th>\n",
       "      <td>18092</td>\n",
       "      <td>4.0</td>\n",
       "      <td>[ASSORTMENT, PRICE, PRODUCTS_QUALITY, DELIVERY]</td>\n",
       "      <td>отзыв быстро тэги assortment price productsqua...</td>\n",
       "      <td>0</td>\n",
       "      <td>0</td>\n",
       "      <td>0</td>\n",
       "      <td>0</td>\n",
       "      <td>0</td>\n",
       "      <td>0</td>\n",
       "      <td>...</td>\n",
       "      <td>0</td>\n",
       "      <td>0</td>\n",
       "      <td>0</td>\n",
       "      <td>0</td>\n",
       "      <td>0</td>\n",
       "      <td>0</td>\n",
       "      <td>0</td>\n",
       "      <td>0</td>\n",
       "      <td>0</td>\n",
       "      <td>0</td>\n",
       "    </tr>\n",
       "    <tr>\n",
       "      <th>2</th>\n",
       "      <td>13845</td>\n",
       "      <td>6.0</td>\n",
       "      <td>[DELIVERY, PROMOTIONS, PRICE, ASSORTMENT, SUPP...</td>\n",
       "      <td>отзыв доставка постоянно задерживается тэги de...</td>\n",
       "      <td>0</td>\n",
       "      <td>0</td>\n",
       "      <td>0</td>\n",
       "      <td>1</td>\n",
       "      <td>0</td>\n",
       "      <td>0</td>\n",
       "      <td>...</td>\n",
       "      <td>0</td>\n",
       "      <td>0</td>\n",
       "      <td>0</td>\n",
       "      <td>0</td>\n",
       "      <td>0</td>\n",
       "      <td>0</td>\n",
       "      <td>0</td>\n",
       "      <td>0</td>\n",
       "      <td>0</td>\n",
       "      <td>0</td>\n",
       "    </tr>\n",
       "  </tbody>\n",
       "</table>\n",
       "<p>3 rows × 54 columns</p>\n",
       "</div>"
      ],
      "text/plain": [
       "   index  assessment                                               tags  \\\n",
       "0   5652         6.0                 [ASSORTMENT, PROMOTIONS, DELIVERY]   \n",
       "1  18092         4.0    [ASSORTMENT, PRICE, PRODUCTS_QUALITY, DELIVERY]   \n",
       "2  13845         6.0  [DELIVERY, PROMOTIONS, PRICE, ASSORTMENT, SUPP...   \n",
       "\n",
       "                                                text  trend_id_res0  \\\n",
       "0  отзыв маленький выбор товаров хотелось бы ассо...              0   \n",
       "1  отзыв быстро тэги assortment price productsqua...              0   \n",
       "2  отзыв доставка постоянно задерживается тэги de...              0   \n",
       "\n",
       "   trend_id_res1  trend_id_res2  trend_id_res3  trend_id_res4  trend_id_res5  \\\n",
       "0              0              0              0              0              0   \n",
       "1              0              0              0              0              0   \n",
       "2              0              0              1              0              0   \n",
       "\n",
       "   ...  trend_id_res40  trend_id_res41  trend_id_res42  trend_id_res43  \\\n",
       "0  ...               0               0               0               0   \n",
       "1  ...               0               0               0               0   \n",
       "2  ...               0               0               0               0   \n",
       "\n",
       "   trend_id_res44  trend_id_res45  trend_id_res46  trend_id_res47  \\\n",
       "0               0               0               0               0   \n",
       "1               0               0               0               0   \n",
       "2               0               0               0               0   \n",
       "\n",
       "   trend_id_res48  trend_id_res49  \n",
       "0               0               0  \n",
       "1               0               0  \n",
       "2               0               0  \n",
       "\n",
       "[3 rows x 54 columns]"
      ]
     },
     "execution_count": 16,
     "metadata": {},
     "output_type": "execute_result"
    }
   ],
   "source": [
    "data.head(3)"
   ]
  },
  {
   "cell_type": "markdown",
   "id": "b775e97d-3aac-4391-b1d7-c3824d6a74af",
   "metadata": {},
   "source": [
    "## Инициализация модели и токенизатора"
   ]
  },
  {
   "cell_type": "code",
   "execution_count": 17,
   "id": "f19b672a-9f96-4149-8722-e1cc342df21f",
   "metadata": {},
   "outputs": [],
   "source": [
    "class FeedbackDataset(Dataset):\n",
    "    def __init__(self, texts, labels, tokenizer, max_length=64):\n",
    "        self.texts = texts\n",
    "        self.labels = labels\n",
    "        self.tokenizer = tokenizer\n",
    "        self.max_length = max_length\n",
    "\n",
    "    def __len__(self):\n",
    "        return len(self.texts)\n",
    "\n",
    "    def __getitem__(self, idx):\n",
    "        text = self.texts[idx]\n",
    "        labels = self.labels[idx]\n",
    "        encoding = self.tokenizer(\n",
    "            text,\n",
    "            max_length=self.max_length,\n",
    "            padding=\"max_length\",\n",
    "            truncation=True,\n",
    "            return_tensors=\"pt\"\n",
    "        )\n",
    "        return {\n",
    "            'input_ids': encoding['input_ids'].squeeze(0),\n",
    "            'attention_mask': encoding['attention_mask'].squeeze(0),\n",
    "            'labels': torch.tensor(labels, dtype=torch.float)\n",
    "        }"
   ]
  },
  {
   "cell_type": "code",
   "execution_count": 18,
   "id": "c6add2a6-5b65-40ff-8250-9ba638f3e68a",
   "metadata": {},
   "outputs": [],
   "source": [
    "# Загрузка данных\n",
    "texts = data['text'].tolist()\n",
    "labels = data[[f'trend_id_res{i}' for i in range(50)]].values"
   ]
  },
  {
   "cell_type": "markdown",
   "id": "8b70fdb6-4cdc-4d5b-9cb1-fd884c693039",
   "metadata": {},
   "source": [
    "Возьмем модель и токенизатор RuBERT"
   ]
  },
  {
   "cell_type": "code",
   "execution_count": 19,
   "id": "17c96584-8f99-477b-b8ee-f7e107f9fbc8",
   "metadata": {},
   "outputs": [
    {
     "name": "stderr",
     "output_type": "stream",
     "text": [
      "Some weights of BertForSequenceClassification were not initialized from the model checkpoint at DeepPavlov/rubert-base-cased and are newly initialized: ['classifier.bias', 'classifier.weight']\n",
      "You should probably TRAIN this model on a down-stream task to be able to use it for predictions and inference.\n"
     ]
    }
   ],
   "source": [
    "# Инициализация токенизатора и модели\n",
    "tokenizer = BertTokenizer.from_pretrained('DeepPavlov/rubert-base-cased')\n",
    "model = BertForSequenceClassification.from_pretrained('DeepPavlov/rubert-base-cased', num_labels=50, problem_type=\"multi_label_classification\")"
   ]
  },
  {
   "cell_type": "markdown",
   "id": "cdd71a9c-7d75-479c-ac5b-073657c9aa28",
   "metadata": {},
   "source": [
    "Подключим GPU"
   ]
  },
  {
   "cell_type": "code",
   "execution_count": 20,
   "id": "618ec20c-fde0-4797-8ff1-7f8b1dd4b423",
   "metadata": {},
   "outputs": [
    {
     "name": "stdout",
     "output_type": "stream",
     "text": [
      "device: cuda\n"
     ]
    }
   ],
   "source": [
    "device = torch.device(\"cuda\" if torch.cuda.is_available() else \"cpu\")\n",
    "print('device:', device)"
   ]
  },
  {
   "cell_type": "code",
   "execution_count": 21,
   "id": "f59a983b-de1d-459c-a85f-45f2b17af2e8",
   "metadata": {},
   "outputs": [],
   "source": [
    "train_texts, val_texts, train_labels, val_labels = train_test_split(texts, labels, test_size=TEST_SIZE, random_state=RANDOM_STATE)"
   ]
  },
  {
   "cell_type": "code",
   "execution_count": 22,
   "id": "15ad6733-c64a-42a3-9e50-9f89540de950",
   "metadata": {},
   "outputs": [],
   "source": [
    "# Создание датасетов\n",
    "train_dataset = FeedbackDataset(train_texts, train_labels, tokenizer)\n",
    "val_dataset = FeedbackDataset(val_texts, val_labels, tokenizer)"
   ]
  },
  {
   "cell_type": "markdown",
   "id": "a8d5ffc0-fac4-4eb5-a7d6-bfb115a2a763",
   "metadata": {},
   "source": [
    "## Тренировка модели"
   ]
  },
  {
   "cell_type": "code",
   "execution_count": 23,
   "id": "68bd3bc3-2e8e-48d7-be52-12a523a1e9f5",
   "metadata": {},
   "outputs": [],
   "source": [
    "training_args = TrainingArguments(\n",
    "    output_dir='./results',\n",
    "    eval_strategy=\"epoch\",\n",
    "    save_strategy=\"epoch\",\n",
    "    per_device_train_batch_size=BATCH_SIZE,\n",
    "    per_device_eval_batch_size=BATCH_SIZE,\n",
    "    num_train_epochs=EPOCH,\n",
    "    weight_decay=0.02,\n",
    "    logging_dir='./logs',\n",
    "    logging_steps=10,\n",
    "    load_best_model_at_end=True,\n",
    "    metric_for_best_model=\"accuracy\",\n",
    "    #fp16=torch.cuda.is_available()\n",
    ")"
   ]
  },
  {
   "cell_type": "code",
   "execution_count": 24,
   "id": "591ce6a0-c88c-4ec9-adf5-0fb535313fe5",
   "metadata": {},
   "outputs": [],
   "source": [
    "def compute_metrics(eval_pred):\n",
    "    logits, labels = eval_pred\n",
    "    predictions = (logits > 0).astype(int)\n",
    "    accuracy = (predictions == labels).all(axis=1).mean()\n",
    "    f1 = f1_score(labels, predictions, average='weighted')\n",
    "    return {\"accuracy\": accuracy, \"f1\": f1}"
   ]
  },
  {
   "cell_type": "code",
   "execution_count": 25,
   "id": "bcde37a9-38e1-471a-91fd-c063ee4593bb",
   "metadata": {},
   "outputs": [],
   "source": [
    "# Тренировка модели\n",
    "trainer = Trainer(\n",
    "    model=model,\n",
    "    args=training_args,\n",
    "    train_dataset=train_dataset,\n",
    "    eval_dataset=val_dataset,\n",
    "    processing_class=tokenizer,\n",
    "    compute_metrics=compute_metrics\n",
    ")\n"
   ]
  },
  {
   "cell_type": "code",
   "execution_count": 26,
   "id": "fe229ebe-78c4-4b50-8e3c-ca6f892d29cc",
   "metadata": {},
   "outputs": [
    {
     "data": {
      "text/html": [
       "\n",
       "    <div>\n",
       "      \n",
       "      <progress value='4360' max='4360' style='width:300px; height:20px; vertical-align: middle;'></progress>\n",
       "      [4360/4360 19:12, Epoch 10/10]\n",
       "    </div>\n",
       "    <table border=\"1\" class=\"dataframe\">\n",
       "  <thead>\n",
       " <tr style=\"text-align: left;\">\n",
       "      <th>Epoch</th>\n",
       "      <th>Training Loss</th>\n",
       "      <th>Validation Loss</th>\n",
       "      <th>Accuracy</th>\n",
       "      <th>F1</th>\n",
       "    </tr>\n",
       "  </thead>\n",
       "  <tbody>\n",
       "    <tr>\n",
       "      <td>1</td>\n",
       "      <td>0.057000</td>\n",
       "      <td>0.069407</td>\n",
       "      <td>0.456372</td>\n",
       "      <td>0.000000</td>\n",
       "    </tr>\n",
       "    <tr>\n",
       "      <td>2</td>\n",
       "      <td>0.052000</td>\n",
       "      <td>0.051898</td>\n",
       "      <td>0.485649</td>\n",
       "      <td>0.096365</td>\n",
       "    </tr>\n",
       "    <tr>\n",
       "      <td>3</td>\n",
       "      <td>0.042600</td>\n",
       "      <td>0.042833</td>\n",
       "      <td>0.586108</td>\n",
       "      <td>0.349585</td>\n",
       "    </tr>\n",
       "    <tr>\n",
       "      <td>4</td>\n",
       "      <td>0.032200</td>\n",
       "      <td>0.037506</td>\n",
       "      <td>0.610792</td>\n",
       "      <td>0.434346</td>\n",
       "    </tr>\n",
       "    <tr>\n",
       "      <td>5</td>\n",
       "      <td>0.029700</td>\n",
       "      <td>0.035050</td>\n",
       "      <td>0.648106</td>\n",
       "      <td>0.497526</td>\n",
       "    </tr>\n",
       "    <tr>\n",
       "      <td>6</td>\n",
       "      <td>0.025300</td>\n",
       "      <td>0.033691</td>\n",
       "      <td>0.665327</td>\n",
       "      <td>0.546773</td>\n",
       "    </tr>\n",
       "    <tr>\n",
       "      <td>7</td>\n",
       "      <td>0.020600</td>\n",
       "      <td>0.031604</td>\n",
       "      <td>0.692882</td>\n",
       "      <td>0.581783</td>\n",
       "    </tr>\n",
       "    <tr>\n",
       "      <td>8</td>\n",
       "      <td>0.023400</td>\n",
       "      <td>0.031385</td>\n",
       "      <td>0.694030</td>\n",
       "      <td>0.586892</td>\n",
       "    </tr>\n",
       "    <tr>\n",
       "      <td>9</td>\n",
       "      <td>0.017300</td>\n",
       "      <td>0.030812</td>\n",
       "      <td>0.704363</td>\n",
       "      <td>0.605909</td>\n",
       "    </tr>\n",
       "    <tr>\n",
       "      <td>10</td>\n",
       "      <td>0.018900</td>\n",
       "      <td>0.030796</td>\n",
       "      <td>0.703789</td>\n",
       "      <td>0.603402</td>\n",
       "    </tr>\n",
       "  </tbody>\n",
       "</table><p>"
      ],
      "text/plain": [
       "<IPython.core.display.HTML object>"
      ]
     },
     "metadata": {},
     "output_type": "display_data"
    },
    {
     "data": {
      "text/plain": [
       "TrainOutput(global_step=4360, training_loss=0.03723763008046588, metrics={'train_runtime': 1153.6437, 'train_samples_per_second': 60.383, 'train_steps_per_second': 3.779, 'total_flos': 2292026889876480.0, 'train_loss': 0.03723763008046588, 'epoch': 10.0})"
      ]
     },
     "execution_count": 26,
     "metadata": {},
     "output_type": "execute_result"
    }
   ],
   "source": [
    "trainer.train()"
   ]
  },
  {
   "cell_type": "code",
   "execution_count": 27,
   "id": "e254d2c0-cfc2-4005-ba3c-9f66b73c5a52",
   "metadata": {},
   "outputs": [
    {
     "data": {
      "text/html": [
       "\n",
       "    <div>\n",
       "      \n",
       "      <progress value='109' max='109' style='width:300px; height:20px; vertical-align: middle;'></progress>\n",
       "      [109/109 00:05]\n",
       "    </div>\n",
       "    "
      ],
      "text/plain": [
       "<IPython.core.display.HTML object>"
      ]
     },
     "metadata": {},
     "output_type": "display_data"
    }
   ],
   "source": [
    "results = trainer.evaluate()"
   ]
  },
  {
   "cell_type": "code",
   "execution_count": 28,
   "id": "a77c8c4a-104e-485f-9165-0aa34cc6355d",
   "metadata": {},
   "outputs": [
    {
     "name": "stdout",
     "output_type": "stream",
     "text": [
      "Best model metrics:\n",
      "{'eval_loss': 0.030812200158834457, 'eval_accuracy': 0.7043628013777268, 'eval_f1': 0.6059086810265086, 'eval_runtime': 6.1263, 'eval_samples_per_second': 284.348, 'eval_steps_per_second': 17.792, 'epoch': 10.0}\n"
     ]
    }
   ],
   "source": [
    "print(\"Best model metrics:\")\n",
    "print(results)"
   ]
  },
  {
   "cell_type": "markdown",
   "id": "e2687324-8e9f-4538-b0f6-fb9f52a18ef0",
   "metadata": {},
   "source": [
    "## Вывод"
   ]
  },
  {
   "cell_type": "markdown",
   "id": "ab2c659a-71a5-4cf4-ac93-776145c48a09",
   "metadata": {},
   "source": [
    "Тренировочный датасет состоит из тегов, оценок и самих отзывов, а также из 50 категорий для меток (целевые). Выяснилось, что около половины этих строк - полностью нулевые. Хотя нулевые строки нужны, однако это большой процент.\n",
    "\n",
    "Метрику удалось улучшить с помощью представленных гиперпараметров и методов преобразования данных. Другие методы, к примеру оверсэмплинг и увеличение количество батчей, не улучшали метрику.\n",
    "\n",
    "Лучшей предобученной моделью для этой задачи оказалась RuBERT от DeepPavlov, количество батчей 16, количество эпох 10.\n",
    "Метрика Accuracy на валидационном датасете показала 0.70, F1 - 0.61.\n",
    "\n",
    "Рекомендации заказчику:\n",
    "- увеличить выборку;\n",
    "- избавиться от дисбаланса классов;\n",
    "- возможно дополнительная информация помимо оценки и тегов."
   ]
  },
  {
   "cell_type": "code",
   "execution_count": null,
   "id": "2188022f-515b-447f-8005-7ff64a4da643",
   "metadata": {},
   "outputs": [],
   "source": []
  }
 ],
 "metadata": {
  "kernelspec": {
   "display_name": "Python 3 (ipykernel)",
   "language": "python",
   "name": "python3"
  },
  "language_info": {
   "codemirror_mode": {
    "name": "ipython",
    "version": 3
   },
   "file_extension": ".py",
   "mimetype": "text/x-python",
   "name": "python",
   "nbconvert_exporter": "python",
   "pygments_lexer": "ipython3",
   "version": "3.12.7"
  }
 },
 "nbformat": 4,
 "nbformat_minor": 5
}
